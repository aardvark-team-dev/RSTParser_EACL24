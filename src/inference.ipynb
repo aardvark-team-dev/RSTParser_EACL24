{
 "cells": [
  {
   "cell_type": "code",
   "execution_count": null,
   "metadata": {},
   "outputs": [],
   "source": [
    "from transformers import AutoTokenizer, AutoModelForCausalLM\n",
    "from peft import PeftModel\n",
    "from parse.parse import parse_doc\n",
    "\n",
    "# 모델과 토크나이저 로드\n",
    "base_model_name = \"meta-llama/Llama-2-7b-hf\"\n",
    "tokenizer = AutoTokenizer.from_pretrained(base_model_name)\n",
    "model = AutoModelForCausalLM.from_pretrained(\n",
    "    base_model_name,\n",
    "    device_map=\"auto\",\n",
    "    load_in_4bit=True\n",
    ")\n",
    "\n",
    "# LoRA 모델 로드\n",
    "model = PeftModel.from_pretrained(\n",
    "    model,\n",
    "    \"arumaekawa/rstdt-7b-span\",  # 또는 다른 학습된 모델 경로\n",
    "    device_map=\"auto\"\n",
    ")\n",
    "\n",
    "\n",
    "# @functions-framework\n",
    "def parse(doc):\n",
    "    parsed_tree = parse_doc(\n",
    "        doc,\n",
    "        model,\n",
    "        tokenizer,\n",
    "        parse_type=\"bottom_up\",  # or \"top_down\"\n",
    "        rel_type=\"rel_with_nuc\",\n",
    "        corpus=\"rstdt\"\n",
    "    )\n",
    "    print(f\"Document ID: {doc['doc_id']}\")\n",
    "    print(f\"Parsed Tree: {parsed_tree}\")\n",
    "    return parsed_tree"
   ]
  }
 ],
 "metadata": {
  "language_info": {
   "name": "python"
  }
 },
 "nbformat": 4,
 "nbformat_minor": 2
}
